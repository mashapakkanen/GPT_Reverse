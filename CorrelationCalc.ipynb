{
 "cells": [
  {
   "cell_type": "code",
   "execution_count": 5,
   "metadata": {},
   "source": "from begsbrill import BeggsBrill",
   "outputs": []
  },
  {
   "cell_type": "code",
   "execution_count": 6,
   "metadata": {},
   "source": [
    "BeggsBrill = BeggsBrill(0.1)"
   ],
   "outputs": []
  },
  {
   "cell_type": "code",
   "execution_count": 13,
   "metadata": {},
   "source": [
    "angle_list = [0, 10, 20, 30, 40, 50, 60, 70, 80, 90]\n",
    "q_liquid_list = [0.1, 1, 10, 20, 30, 40, 50, 100]\n",
    "q_gas_list = [0.1, 1, 10, 40, 60, 100, 1000]\n",
    "liquid_density_list = [650, 700, 750, 800, 900, 1000]\n",
    "gas_density_list = [1, 10, 20, 30, 40, 100, 150]\n",
    "mu_liquid_list = [1, 3, 5, 10]\n",
    "mu_gas_list = [0.01, 0.1, 0.5]\n",
    "sigma_lg_list = [1, 2, 5, 10, 20, 30]\n",
    "\n",
    "gravity_gradient = []\n",
    "friction_gradient = []\n",
    "\n",
    "for angle in angle_list:\n",
    "    for q_liquid in q_liquid_list:\n",
    "        for q_gas in q_gas_list:\n",
    "            for liquid_density in liquid_density_list:\n",
    "                for gas_density in gas_density_list:\n",
    "                    for mu_liquid in mu_liquid_list:\n",
    "                        for mu_gas in mu_gas_list:\n",
    "                            for sigma_lg in sigma_lg_list:\n",
    "                                BeggsBrill.calc_params(angle, q_liquid, q_gas, liquid_density, gas_density, sigma_lg)\n",
    "                                gravity_gradient.append(BeggsBrill.calc_grav(angle, 1))\n",
    "                                friction_gradient.append(BeggsBrill.calc_fric(1e-5, q_liquid, mu_liquid, mu_gas, 1))\n",
    "\n",
    "\n",
    "\n"
   ],
   "outputs": []
  },
  {
   "cell_type": "code",
   "execution_count": 14,
   "metadata": {},
   "source": [
    "friction_gradient"
   ],
   "outputs": []
  },
  {
   "cell_type": "code",
   "execution_count": 5,
   "metadata": {},
   "source": [
    "from begsbrill_implicit import ClassA"
   ],
   "outputs": []
  },
  {
   "cell_type": "code",
   "execution_count": 6,
   "metadata": {},
   "source": [
    "BeggsBrill_implicit = ClassA(0.1)"
   ],
   "outputs": []
  },
  {
   "cell_type": "code",
   "execution_count": 7,
   "metadata": {},
   "source": [
    "BeggsBrill_implicit.fun_3(65, 1, 0.5, 850, 120, 10)"
   ],
   "outputs": []
  },
  {
   "cell_type": "code",
   "execution_count": 8,
   "metadata": {},
   "source": [
    "BeggsBrill_implicit.fun_1(65, 1)"
   ],
   "outputs": []
  },
  {
   "cell_type": "code",
   "execution_count": null,
   "metadata": {},
   "source": [],
   "outputs": []
  }
 ],
 "metadata": {
  "kernelspec": {
   "display_name": "Python 3",
   "language": "python",
   "name": "python3"
  },
  "language_info": {
   "codemirror_mode": {
    "name": "ipython",
    "version": 3
   },
   "file_extension": ".py",
   "mimetype": "text/x-python",
   "name": "python",
   "nbconvert_exporter": "python",
   "pygments_lexer": "ipython3",
   "version": "3.12.4"
  }
 },
 "nbformat": 4,
 "nbformat_minor": 2
}

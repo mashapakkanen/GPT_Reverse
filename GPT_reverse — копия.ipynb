{
 "cells": [
  {
   "cell_type": "code",
   "execution_count": null,
   "metadata": {},
   "source": [],
   "outputs": []
  },
  {
   "cell_type": "code",
   "execution_count": 99,
   "metadata": {},
   "source": [
    "from openai import OpenAI\n",
    "import math\n"
   ],
   "outputs": []
  },
  {
   "cell_type": "code",
   "execution_count": 136,
   "metadata": {},
   "source": [
    "def execute_code_from_chatgpt(code_str):\n",
    "    \"\"\"\n",
    "    Функция для выполнения кода, переданного в виде строки.\n",
    "    :param code_str: Строка с кодом на языке Python.\n",
    "    :return: Результат выполнения кода или ошибка, если она произошла.\n",
    "    \"\"\"\n",
    "    try:\n",
    "        # Создание словарей для изолированного выполнения кода\n",
    "        local_vars = {}\n",
    "        global_vars = {}\n",
    "        \n",
    "        # Выполнение кода\n",
    "        exec(code_str, global_vars, local_vars)\n",
    "        \n",
    "        # Если есть возвращаемое значение, можно извлечь его из локальных переменных\n",
    "        result = local_vars.get('result', None)\n",
    "        \n",
    "        # Вернуть результат выполнения или сообщение об успешном выполнении\n",
    "        return result if result is not None else \"Код выполнен успешно.\"\n",
    "    \n",
    "    except Exception as e:\n",
    "        return f\"Произошла ошибка: {str(e)}\""
   ],
   "outputs": []
  },
  {
   "cell_type": "code",
   "execution_count": 115,
   "metadata": {},
   "source": [
    "client = OpenAI()\n",
    "\n",
    "stream = client.chat.completions.create(\n",
    "    model=\"gpt-3.5-turbo\",\n",
    "    messages=[{\"role\": \"user\", \n",
    "               \"content\": \"Напиши код на питоне, чтобы считать площадь круга в виде функции, не используй импорты библиотек!. В конце пропиши: result = name_func(input(ЧТО Я ДОЛЖЕН ВВЕСТИ)), без print\"}],\n",
    "    stream=False,\n",
    ")\n",
    "# for chunk in stream:\n",
    "#     if chunk.choices[0].delta.content is not None:\n",
    "#         print(chunk.choices[0].delta.content, end=\"\")\n",
    "answer = stream.choices[0].message.content\n",
    "print(stream.choices[0].message.content)\n",
    "\n",
    "execution_result = execute_code_from_chatgpt(answer)\n",
    "print(f\"Результат выполнения кода: {execution_result}\")"
   ],
   "outputs": []
  },
  {
   "cell_type": "code",
   "execution_count": 141,
   "metadata": {},
   "source": [
    "def understand_code(code_snippet):\n",
    "\n",
    "    prompt = (\"Imagine that you are an oilman who has been given the task of reverse engineering hydraulic correlations. You were given a c++ code where the designation of variables is unclear, but you can use the formula to understand what this variable is. Decode these variables.\"\n",
    "              \"\"\"Обратите внимание на следующие маркеры:\n",
    "- 86400: перевод суток в секунды (дебит)\n",
    "- 144: перевод квадратных дюймов в квадратные футы (скорость, диаметр)\n",
    "- 32.2: ускорение свободного падения (давление, сила) \"\"\"\n",
    "              \"Code: \\n\"\n",
    "              f\"{code_snippet}\")\n",
    "\n",
    "    stream = client.chat.completions.create(\n",
    "    model=\"gpt-4o\",\n",
    "    messages=[{\"role\": \"user\", \n",
    "               \"content\": prompt}],\n",
    "    stream=False,\n",
    "            )\n",
    "    \n",
    "    return stream.choices[0].message.content"
   ],
   "outputs": []
  },
  {
   "cell_type": "code",
   "execution_count": 142,
   "metadata": {},
   "source": [
    "code = \"\"\"\"\n",
    "fVar1 = (*param_5 / ((*param_2 * 3.14 * 0.25) / 144.0)) / 86400.0;\n",
    "\n",
    "\"\"\"\n",
    "\n",
    "print(understand_code(code))"
   ],
   "outputs": []
  },
  {
   "cell_type": "code",
   "execution_count": null,
   "metadata": {},
   "source": [],
   "outputs": []
  }
 ],
 "metadata": {
  "kernelspec": {
   "display_name": ".venv",
   "language": "python",
   "name": "python3"
  },
  "language_info": {
   "codemirror_mode": {
    "name": "ipython",
    "version": 3
   },
   "file_extension": ".py",
   "mimetype": "text/x-python",
   "name": "python",
   "nbconvert_exporter": "python",
   "pygments_lexer": "ipython3",
   "version": "3.11.0"
  }
 },
 "nbformat": 4,
 "nbformat_minor": 2
}
